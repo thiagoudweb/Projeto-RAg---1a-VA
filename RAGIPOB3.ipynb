{
  "nbformat": 4,
  "nbformat_minor": 0,
  "metadata": {
    "colab": {
      "provenance": [],
      "authorship_tag": "ABX9TyNAetvZgJDKR7P8Q/xplDI7",
      "include_colab_link": true
    },
    "kernelspec": {
      "name": "python3",
      "display_name": "Python 3"
    },
    "language_info": {
      "name": "python"
    }
  },
  "cells": [
    {
      "cell_type": "markdown",
      "metadata": {
        "id": "view-in-github",
        "colab_type": "text"
      },
      "source": [
        "<a href=\"https://colab.research.google.com/github/thiagoudweb/Projeto-RAg---1a-VA/blob/main/RAGIPOB3.ipynb\" target=\"_parent\"><img src=\"https://colab.research.google.com/assets/colab-badge.svg\" alt=\"Open In Colab\"/></a>"
      ]
    },
    {
      "cell_type": "code",
      "execution_count": null,
      "metadata": {
        "collapsed": true,
        "id": "UgZeNMRh4m_1"
      },
      "outputs": [],
      "source": [
        "!pip install langchain langchain-community langchain-openai langchain-groq\n",
        "!pip install streamlit streamlit_chat\n",
        "!pip install sentence-transformers\n",
        "!pip install chromadb\n",
        "!pip install pypdf unstructured\n",
        "!pip install PyPDF2\n",
        "!pip install streamlit\n",
        "!pip install -U langchain langchain-openai\n",
        "!pip install faiss-cpu transformers groq\n",
        "\n",
        "\n",
        "\n",
        "\n"
      ]
    },
    {
      "cell_type": "code",
      "source": [
        "# @title bibliotecas essenciaiss\n",
        "import langchain\n",
        "import streamlit as st\n",
        "from langchain.vectorstores import Chroma\n",
        "from langchain.embeddings import HuggingFaceEmbeddings\n",
        "import os\n",
        "import PyPDF2\n",
        "from langchain.text_splitter import RecursiveCharacterTextSplitter\n",
        "from langchain_groq import ChatGroq\n",
        "from langchain.chat_models import ChatOpenAI\n",
        "import transformers\n",
        "import sentence_transformers\n",
        "import groq\n",
        "from langchain.schema import HumanMessage\n",
        "\n",
        "\n"
      ],
      "metadata": {
        "id": "g89oFDypRHVm",
        "collapsed": true
      },
      "execution_count": 20,
      "outputs": []
    },
    {
      "cell_type": "code",
      "source": [
        "# @title extraindo os textos do pdf\n",
        "import PyPDF2\n",
        "\n",
        "def carregar_texto_pdf(caminho_pdf):\n",
        "    texto_completo = \"\"\n",
        "    with open(caminho_pdf, \"rb\") as arquivo:\n",
        "        leitor = PyPDF2.PdfReader(arquivo)\n",
        "        for pagina in range(len(leitor.pages)):\n",
        "            texto_completo += leitor.pages[pagina].extract_text() + \"\\n\"\n",
        "    return texto_completo\n"
      ],
      "metadata": {
        "collapsed": true,
        "id": "YvtSfPNfXp7I"
      },
      "execution_count": 21,
      "outputs": []
    },
    {
      "cell_type": "code",
      "source": [
        "# @title Carregar pdf de maneira manual\n",
        "from google.colab import files\n",
        "\n",
        "uploaded = files.upload()  #upload do arquivo manual\n",
        "caminho_pdf = list(uploaded.keys())[0]\n",
        "\n",
        "texto_prospecto = carregar_texto_pdf(caminho_pdf)\n",
        "print(texto_prospecto[:1000])\n"
      ],
      "metadata": {
        "colab": {
          "base_uri": "https://localhost:8080/",
          "height": 162
        },
        "collapsed": true,
        "id": "NW80-wBOiQSE",
        "outputId": "a166c5f5-faee-4d8a-c146-08f4b92fcba6"
      },
      "execution_count": 22,
      "outputs": [
        {
          "output_type": "display_data",
          "data": {
            "text/plain": [
              "<IPython.core.display.HTML object>"
            ],
            "text/html": [
              "\n",
              "     <input type=\"file\" id=\"files-5cd34427-b733-4f25-8089-4058fc9777c7\" name=\"files[]\" multiple disabled\n",
              "        style=\"border:none\" />\n",
              "     <output id=\"result-5cd34427-b733-4f25-8089-4058fc9777c7\">\n",
              "      Upload widget is only available when the cell has been executed in the\n",
              "      current browser session. Please rerun this cell to enable.\n",
              "      </output>\n",
              "      <script>// Copyright 2017 Google LLC\n",
              "//\n",
              "// Licensed under the Apache License, Version 2.0 (the \"License\");\n",
              "// you may not use this file except in compliance with the License.\n",
              "// You may obtain a copy of the License at\n",
              "//\n",
              "//      http://www.apache.org/licenses/LICENSE-2.0\n",
              "//\n",
              "// Unless required by applicable law or agreed to in writing, software\n",
              "// distributed under the License is distributed on an \"AS IS\" BASIS,\n",
              "// WITHOUT WARRANTIES OR CONDITIONS OF ANY KIND, either express or implied.\n",
              "// See the License for the specific language governing permissions and\n",
              "// limitations under the License.\n",
              "\n",
              "/**\n",
              " * @fileoverview Helpers for google.colab Python module.\n",
              " */\n",
              "(function(scope) {\n",
              "function span(text, styleAttributes = {}) {\n",
              "  const element = document.createElement('span');\n",
              "  element.textContent = text;\n",
              "  for (const key of Object.keys(styleAttributes)) {\n",
              "    element.style[key] = styleAttributes[key];\n",
              "  }\n",
              "  return element;\n",
              "}\n",
              "\n",
              "// Max number of bytes which will be uploaded at a time.\n",
              "const MAX_PAYLOAD_SIZE = 100 * 1024;\n",
              "\n",
              "function _uploadFiles(inputId, outputId) {\n",
              "  const steps = uploadFilesStep(inputId, outputId);\n",
              "  const outputElement = document.getElementById(outputId);\n",
              "  // Cache steps on the outputElement to make it available for the next call\n",
              "  // to uploadFilesContinue from Python.\n",
              "  outputElement.steps = steps;\n",
              "\n",
              "  return _uploadFilesContinue(outputId);\n",
              "}\n",
              "\n",
              "// This is roughly an async generator (not supported in the browser yet),\n",
              "// where there are multiple asynchronous steps and the Python side is going\n",
              "// to poll for completion of each step.\n",
              "// This uses a Promise to block the python side on completion of each step,\n",
              "// then passes the result of the previous step as the input to the next step.\n",
              "function _uploadFilesContinue(outputId) {\n",
              "  const outputElement = document.getElementById(outputId);\n",
              "  const steps = outputElement.steps;\n",
              "\n",
              "  const next = steps.next(outputElement.lastPromiseValue);\n",
              "  return Promise.resolve(next.value.promise).then((value) => {\n",
              "    // Cache the last promise value to make it available to the next\n",
              "    // step of the generator.\n",
              "    outputElement.lastPromiseValue = value;\n",
              "    return next.value.response;\n",
              "  });\n",
              "}\n",
              "\n",
              "/**\n",
              " * Generator function which is called between each async step of the upload\n",
              " * process.\n",
              " * @param {string} inputId Element ID of the input file picker element.\n",
              " * @param {string} outputId Element ID of the output display.\n",
              " * @return {!Iterable<!Object>} Iterable of next steps.\n",
              " */\n",
              "function* uploadFilesStep(inputId, outputId) {\n",
              "  const inputElement = document.getElementById(inputId);\n",
              "  inputElement.disabled = false;\n",
              "\n",
              "  const outputElement = document.getElementById(outputId);\n",
              "  outputElement.innerHTML = '';\n",
              "\n",
              "  const pickedPromise = new Promise((resolve) => {\n",
              "    inputElement.addEventListener('change', (e) => {\n",
              "      resolve(e.target.files);\n",
              "    });\n",
              "  });\n",
              "\n",
              "  const cancel = document.createElement('button');\n",
              "  inputElement.parentElement.appendChild(cancel);\n",
              "  cancel.textContent = 'Cancel upload';\n",
              "  const cancelPromise = new Promise((resolve) => {\n",
              "    cancel.onclick = () => {\n",
              "      resolve(null);\n",
              "    };\n",
              "  });\n",
              "\n",
              "  // Wait for the user to pick the files.\n",
              "  const files = yield {\n",
              "    promise: Promise.race([pickedPromise, cancelPromise]),\n",
              "    response: {\n",
              "      action: 'starting',\n",
              "    }\n",
              "  };\n",
              "\n",
              "  cancel.remove();\n",
              "\n",
              "  // Disable the input element since further picks are not allowed.\n",
              "  inputElement.disabled = true;\n",
              "\n",
              "  if (!files) {\n",
              "    return {\n",
              "      response: {\n",
              "        action: 'complete',\n",
              "      }\n",
              "    };\n",
              "  }\n",
              "\n",
              "  for (const file of files) {\n",
              "    const li = document.createElement('li');\n",
              "    li.append(span(file.name, {fontWeight: 'bold'}));\n",
              "    li.append(span(\n",
              "        `(${file.type || 'n/a'}) - ${file.size} bytes, ` +\n",
              "        `last modified: ${\n",
              "            file.lastModifiedDate ? file.lastModifiedDate.toLocaleDateString() :\n",
              "                                    'n/a'} - `));\n",
              "    const percent = span('0% done');\n",
              "    li.appendChild(percent);\n",
              "\n",
              "    outputElement.appendChild(li);\n",
              "\n",
              "    const fileDataPromise = new Promise((resolve) => {\n",
              "      const reader = new FileReader();\n",
              "      reader.onload = (e) => {\n",
              "        resolve(e.target.result);\n",
              "      };\n",
              "      reader.readAsArrayBuffer(file);\n",
              "    });\n",
              "    // Wait for the data to be ready.\n",
              "    let fileData = yield {\n",
              "      promise: fileDataPromise,\n",
              "      response: {\n",
              "        action: 'continue',\n",
              "      }\n",
              "    };\n",
              "\n",
              "    // Use a chunked sending to avoid message size limits. See b/62115660.\n",
              "    let position = 0;\n",
              "    do {\n",
              "      const length = Math.min(fileData.byteLength - position, MAX_PAYLOAD_SIZE);\n",
              "      const chunk = new Uint8Array(fileData, position, length);\n",
              "      position += length;\n",
              "\n",
              "      const base64 = btoa(String.fromCharCode.apply(null, chunk));\n",
              "      yield {\n",
              "        response: {\n",
              "          action: 'append',\n",
              "          file: file.name,\n",
              "          data: base64,\n",
              "        },\n",
              "      };\n",
              "\n",
              "      let percentDone = fileData.byteLength === 0 ?\n",
              "          100 :\n",
              "          Math.round((position / fileData.byteLength) * 100);\n",
              "      percent.textContent = `${percentDone}% done`;\n",
              "\n",
              "    } while (position < fileData.byteLength);\n",
              "  }\n",
              "\n",
              "  // All done.\n",
              "  yield {\n",
              "    response: {\n",
              "      action: 'complete',\n",
              "    }\n",
              "  };\n",
              "}\n",
              "\n",
              "scope.google = scope.google || {};\n",
              "scope.google.colab = scope.google.colab || {};\n",
              "scope.google.colab._files = {\n",
              "  _uploadFiles,\n",
              "  _uploadFilesContinue,\n",
              "};\n",
              "})(self);\n",
              "</script> "
            ]
          },
          "metadata": {}
        },
        {
          "output_type": "stream",
          "name": "stdout",
          "text": [
            "Saving book.pdf to book.pdf\n",
            "As informações contidas neste Prospecto Preliminar estão sob análise da Comissão de Valores Mobiliários, a qual ainda não se man ifestou a seu respeito. O presente Prospecto Preliminar está sujeito à complementação e correção. O Prospecto Definitivo estará  disponível nas páginas da rede mundial de computadores da Companhia; das\n",
            "Instituições Participantes da Oferta; das entidades administradoras de mercado organizado de valores mobiliários onde os valore s mobiliários da Companhia sejam admitidos à negociação; e da CVM.  ESTE DOCUMENTO É UMA MINUTA INICIAL SUJEITA A ALTERAÇÕES E COMPLEMENTAÇÕES, TENDO SIDO ARQUIVADO NA COMISSÃO DE VALORES MOBILIÁ RIOS PARA FINS EXCLUSIVOS DE ANÁLISE E EXIGÊNCIAS \n",
            "POR PARTE DESSA AUTARQUIA. ESTE DOCUMENTO, PO RTANTO, NÃO SE CARACTERIZA COMO O PROSPECTO PRELIMINAR DA OFERTA E NÃO CONSTITUI U MA OFERTA DE VENDA OU UMA SOLICITAÇÃO PARA \n",
            "OFERTA DE COMPRA DE TÍTULOS E VALORES MOBILIÁRIOS NO BRASIL, NOS ESTADOS UNIDOS DA AMÉRICA OU EM QUALQUER OUTRA JURISDIÇÃ\n"
          ]
        }
      ]
    },
    {
      "cell_type": "code",
      "source": [
        "# @title Dividindo texto em chunnks\n",
        "def dividir_texto(texto, tamanho_chunk=500, sobreposicao=100):\n",
        "    splitter = RecursiveCharacterTextSplitter(\n",
        "        chunk_size=tamanho_chunk,\n",
        "        chunk_overlap=sobreposicao,\n",
        "        separators=[\"\\n\\n\", \"\\n\", \" \", \"\"]\n",
        "    )\n",
        "    return splitter.split_text(texto)\n",
        "\n",
        "\n"
      ],
      "metadata": {
        "id": "wL45DRNBsmVC"
      },
      "execution_count": 24,
      "outputs": []
    },
    {
      "cell_type": "code",
      "source": [
        "# @title Salvando vetor de chunnks\n",
        "\n",
        "chunks = dividir_texto(texto_prospecto)"
      ],
      "metadata": {
        "id": "BOMSiKGQYQOd"
      },
      "execution_count": 25,
      "outputs": []
    },
    {
      "cell_type": "code",
      "source": [
        "# @title Teste com diferentes modelos de embeddings\n",
        "from sentence_transformers import SentenceTransformer\n",
        "\n",
        "# modelos hugging\n",
        "model_names = [\n",
        "    \"sentence-transformers/all-MiniLM-L6-v2\",\n",
        "    \"sentence-transformers/multi-qa-mpnet-base-dot-v1\",\n",
        "    \"intfloat/e5-large-v2\"\n",
        "]\n",
        "\n",
        "\n",
        "texto_exemplo = \"ste Prospecto (“Acionista Vendedor Pessoa Física”, em conjunto com o Prisma Bazar FIP, “Acionistas Vendedores”) estão realizando uma oferta pública de distribuição primária e secundária de, inicialmente, [•] ações ordinárias, nominativas, \"\n",
        "# vetor para armazenar embeddings\n",
        "embeddings = {}\n",
        "\n",
        "for model_name in model_names:\n",
        "    model = SentenceTransformer(model_name)\n",
        "    embedding = model.encode(texto_exemplo)\n",
        "    embeddings[model_name] = embedding\n",
        "    print(f\"Modelo: {model_name} - Tamanho do vetor: {len(embedding)}\")\n",
        "\n",
        "\n",
        "print(\"\\nexemplo de embedding gerado (valores iniciais):\")\n",
        "print(embeddings[model_names[0]][:10])\n",
        "\n",
        "\n"
      ],
      "metadata": {
        "id": "acubOkQ9ODBH"
      },
      "execution_count": null,
      "outputs": []
    },
    {
      "cell_type": "code",
      "source": [
        "# @title Transformando textos em vetores\n",
        "\n",
        "# modelo de embeddings usando lib hugging Face\n",
        "modelo_embedding = HuggingFaceEmbeddings(model_name=\"sentence-transformers/all-MiniLM-L6-v2\")\n",
        "\n",
        "# criar embeddings para os chunk de textos\n",
        "vetores_texto = [modelo_embedding.embed_query(chunk) for chunk in chunks]\n",
        "\n",
        "# MODELOS PARA TESTAR\n",
        "\n",
        "# sentence-transformers/all-MiniLM-L6-v2 | Rápido e eficiente, bom para buscas gerais.\n",
        "# sentence-transformers/multi-qa-mpnet-base-dot-v1 | Treinado para perguntas e respostas, pode melhorar a recuperação.\n",
        "# intfloat/e5-large-v2 | Modelo maior e mais preciso, mas mais pesado.\n",
        "\n"
      ],
      "metadata": {
        "id": "VJnUJR6oiKNL",
        "colab": {
          "base_uri": "https://localhost:8080/"
        },
        "collapsed": true,
        "outputId": "79c9de02-9839-45e2-881c-4ec952ac4315",
        "cellView": "code"
      },
      "execution_count": 26,
      "outputs": [
        {
          "output_type": "stream",
          "name": "stderr",
          "text": [
            "<ipython-input-26-71865fc8d50d>:4: LangChainDeprecationWarning: The class `HuggingFaceEmbeddings` was deprecated in LangChain 0.2.2 and will be removed in 1.0. An updated version of the class exists in the :class:`~langchain-huggingface package and should be used instead. To use it run `pip install -U :class:`~langchain-huggingface` and import as `from :class:`~langchain_huggingface import HuggingFaceEmbeddings``.\n",
            "  modelo_embedding = HuggingFaceEmbeddings(model_name=\"sentence-transformers/all-MiniLM-L6-v2\")\n"
          ]
        }
      ]
    },
    {
      "cell_type": "code",
      "source": [
        "# @title Banco de dados para guardar os embeddings usando chorma db.\n",
        "\n",
        "chroma_db = Chroma(persist_directory=\"./chroma_db\", embedding_function=modelo_embedding)\n",
        "\n",
        "# add textos e embeddinss ao banco\n",
        "ids = [f\"chunk_{i}\" for i in range(len(chunks))]  # criando identificação para chunk\n",
        "chroma_db.add_texts(texts=chunks, ids=ids)\n",
        "\n",
        "print(\"Base de dados vetorial criada e populada com sucesso!\")\n"
      ],
      "metadata": {
        "colab": {
          "base_uri": "https://localhost:8080/"
        },
        "id": "NodfbKcFi8F0",
        "outputId": "d9a23c12-9a99-48f1-a7d1-844053b085b2"
      },
      "execution_count": null,
      "outputs": [
        {
          "output_type": "stream",
          "name": "stderr",
          "text": [
            "<ipython-input-27-21b8586cb98f>:3: LangChainDeprecationWarning: The class `Chroma` was deprecated in LangChain 0.2.9 and will be removed in 1.0. An updated version of the class exists in the :class:`~langchain-chroma package and should be used instead. To use it run `pip install -U :class:`~langchain-chroma` and import as `from :class:`~langchain_chroma import Chroma``.\n",
            "  chroma_db = Chroma(persist_directory=\"./chroma_db\", embedding_function=modelo_embedding)\n"
          ]
        }
      ]
    },
    {
      "cell_type": "code",
      "source": [
        "# @title Integrando o o groq ao rag\n",
        "import os\n",
        "from langchain_groq import ChatGroq\n",
        "\n",
        "os.environ[\"GROQ_API_KEY\"] = \"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\"\n",
        "\n",
        "\n",
        "\n",
        "# criar o modelo de ia com llama\n",
        "modelo_groq = ChatGroq(model_name=\"mixtral-8x7b-32768\")\n",
        "\n"
      ],
      "metadata": {
        "id": "5Glq1jhTXU-D"
      },
      "execution_count": null,
      "outputs": []
    },
    {
      "cell_type": "code",
      "source": [
        "def responder_pergunta_gpt(pergunta, chroma_db, modelo_groq, k=3):\n",
        "    # Busca os trechos mais relevantes no banco vetorial\n",
        "    trechos_relevantes = chroma_db.similarity_search(pergunta, k=k)\n",
        "\n",
        "    # criar o contexto com os embbedings enctrados\n",
        "    contexto = \"\\n\".join([trecho.page_content for trecho in trechos_relevantes])\n",
        "\n",
        "    # criar um prompt para o gpt4\n",
        "    prompt = f\"\"\"\n",
        "    você é um especialista em mercado financeiro e vai usar as informações abaixo para responder a pergunta do usuário com base nos documentos oficiais dos prospectos de ipo.\n",
        "\n",
        "    CONTEXTO:\n",
        "    {contexto}\n",
        "\n",
        "    PERGUNTA:\n",
        "    {pergunta}\n",
        "\n",
        "    responda de forma clara,objetiva e baseada apenas no contexto acima.\n",
        "    \"\"\"\n",
        "\n",
        "    # gera a resposta com gpt 4\n",
        "    resposta = modelo_groq.invoke(prompt)\n",
        "\n",
        "    return resposta.content  # retornar o texto gerado\n"
      ],
      "metadata": {
        "id": "fQz3U5xHZD1f"
      },
      "execution_count": null,
      "outputs": []
    },
    {
      "cell_type": "code",
      "source": [
        "pergunta_teste = input()\n",
        "resposta = responder_pergunta_gpt(pergunta_teste, chroma_db, modelo_groq)\n",
        "\n",
        "print(\"Resposta gerada pelo sistema:\")\n",
        "print(resposta)\n"
      ],
      "metadata": {
        "id": "jS_Gbzr4ZHRs",
        "colab": {
          "base_uri": "https://localhost:8080/"
        },
        "outputId": "e6ebea3c-9830-421c-d20e-a119681514aa"
      },
      "execution_count": null,
      "outputs": [
        {
          "output_type": "stream",
          "name": "stdout",
          "text": [
            "quem é o ceo?\n",
            "Resposta gerada pelo sistema:\n",
            "De acordo com o contexto fornecido, o CEO mencionado é Maurício Barbosa, que foi recém contratado e decidiu adquirir a empresa juntamente com Marcelo Salinas.\n"
          ]
        }
      ]
    }
  ]
}