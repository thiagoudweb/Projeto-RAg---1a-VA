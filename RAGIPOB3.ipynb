{
  "nbformat": 4,
  "nbformat_minor": 0,
  "metadata": {
    "colab": {
      "provenance": [],
      "authorship_tag": "ABX9TyPUXvqFQK6roh8YkhxaqHlO",
      "include_colab_link": true
    },
    "kernelspec": {
      "name": "python3",
      "display_name": "Python 3"
    },
    "language_info": {
      "name": "python"
    }
  },
  "cells": [
    {
      "cell_type": "markdown",
      "metadata": {
        "id": "view-in-github",
        "colab_type": "text"
      },
      "source": [
        "<a href=\"https://colab.research.google.com/github/thiagoudweb/Projeto-RAg---1a-VA/blob/main/RAGIPOB3.ipynb\" target=\"_parent\"><img src=\"https://colab.research.google.com/assets/colab-badge.svg\" alt=\"Open In Colab\"/></a>"
      ]
    },
    {
      "cell_type": "code",
      "execution_count": null,
      "metadata": {
        "collapsed": true,
        "id": "UgZeNMRh4m_1"
      },
      "outputs": [],
      "source": [
        "!pip install langchain langchain-community langchain-openai langchain-groq\n",
        "!pip install streamlit streamlit_chat\n",
        "!pip install sentence-transformers\n",
        "!pip install chromadb\n",
        "!pip install pypdf unstructured\n",
        "!pip install PyPDF2\n",
        "\n"
      ]
    },
    {
      "cell_type": "code",
      "source": [
        "import langchain\n",
        "import streamlit as st\n",
        "from langchain.vectorstores import Chroma\n",
        "from langchain.embeddings import HuggingFaceEmbeddings\n",
        "import os\n",
        "import PyPDF2\n",
        "from langchain.text_splitter import RecursiveCharacterTextSplitter\n",
        "\n"
      ],
      "metadata": {
        "id": "g89oFDypRHVm",
        "collapsed": true
      },
      "execution_count": 15,
      "outputs": []
    },
    {
      "cell_type": "code",
      "source": [
        "import PyPDF2\n",
        "\n",
        "def carregar_texto_pdf(caminho_pdf):\n",
        "    texto_completo = \"\"\n",
        "    with open(caminho_pdf, \"rb\") as arquivo:\n",
        "        leitor = PyPDF2.PdfReader(arquivo)\n",
        "        for pagina in range(len(leitor.pages)):\n",
        "            texto_completo += leitor.pages[pagina].extract_text() + \"\\n\"\n",
        "    return texto_completo\n"
      ],
      "metadata": {
        "collapsed": true,
        "id": "YvtSfPNfXp7I"
      },
      "execution_count": null,
      "outputs": []
    },
    {
      "cell_type": "code",
      "source": [
        "def dividir_texto(texto, tamanho_chunk=500, sobreposicao=100):\n",
        "    splitter = RecursiveCharacterTextSplitter(\n",
        "        chunk_size=tamanho_chunk,\n",
        "        chunk_overlap=sobreposicao,\n",
        "        separators=[\"\\n\\n\", \"\\n\", \" \", \"\"]\n",
        "    )\n",
        "    return splitter.split_text(texto)\n"
      ],
      "metadata": {
        "id": "wL45DRNBsmVC"
      },
      "execution_count": 21,
      "outputs": []
    }
  ]
}